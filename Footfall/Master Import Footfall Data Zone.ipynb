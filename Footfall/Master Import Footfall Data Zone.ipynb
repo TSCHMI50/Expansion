{
 "cells": [
  {
   "cell_type": "code",
   "execution_count": null,
   "id": "9d3722b1",
   "metadata": {},
   "outputs": [],
   "source": [
    "import pandas as pd\n",
    "import numpy as np\n",
    "\n",
    "import matplotlib.pyplot as plt\n",
    "from scipy.interpolate import make_interp_spline\n",
    "\n",
    "import geopandas as gpd\n",
    "from shapely.geometry import Polygon, Point\n",
    "from shapely.ops import transform\n",
    "import mercantile\n",
    "import pyproj\n",
    "from ipyleaflet import Map, DrawControl\n",
    "\n",
    "import requests\n",
    "from io import StringIO\n",
    "import json\n",
    "from tqdm import tqdm\n",
    "\n",
    "import ipywidgets as widgets\n",
    "\n",
    "from datetime import datetime, timedelta\n",
    "\n",
    "import re\n",
    "from functools import partial\n",
    "\n",
    "import os\n"
   ]
  },
  {
   "cell_type": "markdown",
   "id": "3926279f",
   "metadata": {},
   "source": [
    "# Decide the zone of the data we will treat (example City Zürich or many cities)"
   ]
  },
  {
   "cell_type": "markdown",
   "id": "1ec10fdc",
   "metadata": {},
   "source": [
    "## Upload a csv with column Name and Google Maps Link of the place or enter it manually"
   ]
  },
  {
   "cell_type": "code",
   "execution_count": null,
   "id": "365bf1c9",
   "metadata": {},
   "outputs": [],
   "source": [
    "Places #=insert csv where you have the data "
   ]
  },
  {
   "cell_type": "code",
   "execution_count": null,
   "id": "d83e228e",
   "metadata": {
    "scrolled": true
   },
   "outputs": [],
   "source": [
    "Places = {'Name': ['Zurich'\n",
    "                   #,'Name_of_city_2'\n",
    "                   #,...\n",
    "                  ]\n",
    "          , 'Google Maps Link': ['https://www.google.com/maps/@47.3775328,8.5362255,21z?entry=ttu'\n",
    "                                 #,'Google_maps_link_2'\n",
    "                                 #,...\n",
    "                                ]}\n",
    "Places = pd.DataFrame(Places)"
   ]
  },
  {
   "cell_type": "markdown",
   "id": "53709af2",
   "metadata": {},
   "source": [
    "## Define the radius to apply"
   ]
  },
  {
   "cell_type": "code",
   "execution_count": null,
   "id": "4f9735fe",
   "metadata": {},
   "outputs": [],
   "source": [
    "#Insert radius in meters\n",
    "radius_to_apply = 50"
   ]
  },
  {
   "cell_type": "markdown",
   "id": "a7450d7f",
   "metadata": {},
   "source": [
    "## Define the functions"
   ]
  },
  {
   "cell_type": "code",
   "execution_count": null,
   "id": "2cf13827",
   "metadata": {
    "scrolled": true
   },
   "outputs": [],
   "source": [
    "def coords2points(lat, lon):\n",
    "    \"\"\"\n",
    "    Converts latitude and longitude to a Shapely Point object.\n",
    "\n",
    "    Args:\n",
    "        lat (float): Latitude.\n",
    "        lon (float): Longitude.\n",
    "\n",
    "    Returns:\n",
    "        A shapely.geometry.Point object.\n",
    "    \"\"\"\n",
    "    return Point(lon, lat)\n",
    "\n",
    "def extract_coordinates_from_google_maps_link(google_maps_link):\n",
    "    \"\"\"\n",
    "    Extracts latitude and longitude from a Google Maps link.\n",
    "\n",
    "    Args:\n",
    "        google_maps_link (str): Google Maps link.\n",
    "\n",
    "    Returns:\n",
    "        Latitude and longitude as floats.\n",
    "    \"\"\"\n",
    "    # Regular expression to extract coordinates from the Google Maps link\n",
    "    pattern = r'@(-?\\d+\\.\\d+),(-?\\d+\\.\\d+)'\n",
    "    match = re.search(pattern, google_maps_link)\n",
    "    if match:\n",
    "        lat = float(match.group(1))\n",
    "        lon = float(match.group(2))\n",
    "        return lat, lon\n",
    "    else:\n",
    "        raise ValueError(\"Invalid Google Maps link. Unable to extract coordinates.\")\n",
    "\n",
    "def aeqd_reproj_buffer(center, radius=radius_to_apply):\n",
    "    \"\"\"\n",
    "    Converts center coordinates to AEQD projection,\n",
    "    draws a circle of given radius around the center coordinates,\n",
    "    converts both polygons back to WGS84.\n",
    "\n",
    "    Args:\n",
    "        center (shapely.geometry Point): Center coordinates of a circle.\n",
    "        radius (integer): Circle's radius in meters.\n",
    "\n",
    "    Returns:\n",
    "        A shapely.geometry Polygon object for circle of given radius.\n",
    "    \"\"\"\n",
    "    # Get the latitude, longitude of the center coordinates\n",
    "    lat = center.y\n",
    "    lon = center.x\n",
    "\n",
    "    # Define the projections\n",
    "    local_azimuthal_projection = \"+proj=aeqd +R=6371000 +units=m +lat_0={} +lon_0={}\".format(\n",
    "        lat, lon\n",
    "    )\n",
    "    wgs84_to_aeqd = partial(\n",
    "        pyproj.transform,\n",
    "        pyproj.Proj(\"+proj=longlat +datum=WGS84 +no_defs\"),\n",
    "        pyproj.Proj(local_azimuthal_projection),\n",
    "    )\n",
    "    aeqd_to_wgs84 = partial(\n",
    "        pyproj.transform,\n",
    "        pyproj.Proj(local_azimuthal_projection),\n",
    "        pyproj.Proj(\"+proj=longlat +datum=WGS84 +no_defs\"),\n",
    "    )\n",
    "\n",
    "    # Transform the center coordinates from WGS84 to AEQD\n",
    "    point_transformed = transform(wgs84_to_aeqd, center)\n",
    "    buffer = point_transformed.buffer(radius)\n",
    "\n",
    "    # Get the polygon with lat lon coordinates\n",
    "    circle_poly = transform(aeqd_to_wgs84, buffer)\n",
    "\n",
    "    return circle_poly\n",
    "\n",
    "\n",
    "def generate_quadkeys(circle_poly, zoom):\n",
    "    \"\"\"\n",
    "    Generate a list of quadkeys that overlap with the zone.\n",
    "    \n",
    "    Args:\n",
    "        circle_poly (shapely.geometry Polygon): circle polygon object drawn \n",
    "            around a place.\n",
    "        zoom (integer): zoom level.\n",
    "        \n",
    "    Return:\n",
    "        List of quadkeys as string\n",
    "    \"\"\"\n",
    "\n",
    "    return [mercantile.quadkey(x) for x in mercantile.tiles(*circle_poly.bounds, zoom)]\n"
   ]
  },
  {
   "cell_type": "code",
   "execution_count": null,
   "id": "b8523632",
   "metadata": {},
   "outputs": [],
   "source": [
    "places_df = pd.DataFrame()\n",
    "places_df['name'] = Places['Name']\n",
    "places_df['lat'] = Places.apply(lambda x: extract_coordinates_from_google_maps_link(x['Google Maps Link']),axis=1)\n",
    "places_df['point'] =  places_df.apply(lambda x: coords2points(x['lat'][0],x['lat'][1]),axis=1)\n",
    "places_df['aeqd_reproj_circle'] = places_df.apply(lambda x: aeqd_reproj_buffer(x['point']),axis=1)\n",
    "\n",
    "\n",
    "# Create a list of overlapping z18 quadkeys for each zone and add to a new column\n",
    "places_df['z18_quadkeys'] = places_df.apply(lambda x: generate_quadkeys(x['aeqd_reproj_circle'], 18),axis=1)\n",
    "places_df['z7_quadkeys'] = places_df.apply(lambda x: generate_quadkeys(x['aeqd_reproj_circle'], 7),axis=1)\n",
    "\n",
    "#save the quadkeys\n",
    "all_z7_quadkeys = list(set([quadkey for sublist in places_df['z7_quadkeys'] for quadkey in sublist]))\n",
    "all_z18_quadkeys = list(set([quadkey for sublist in places_df['z18_quadkeys'] for quadkey in sublist]))"
   ]
  },
  {
   "cell_type": "markdown",
   "id": "189ad12c",
   "metadata": {},
   "source": [
    "# Import Data"
   ]
  },
  {
   "cell_type": "code",
   "execution_count": null,
   "id": "508e1758",
   "metadata": {},
   "outputs": [],
   "source": [
    "import os\n",
    "import requests\n",
    "from datetime import datetime, timedelta\n",
    "\n",
    "def import_sample_data_to_df(start_date, end_date, z7_quadkey_list, verbose=True):\n",
    "\n",
    "    \n",
    "    # Generate range of dates between start and end date in %Y-%m-%d string format\n",
    "    start = datetime.strptime(start_date, '%Y-%m-%d')\n",
    "    end = datetime.strptime(end_date, '%Y-%m-%d')\n",
    "    num_days = int((end - start).days)\n",
    "    days_range = num_days + 1\n",
    "    date_range = [(start + timedelta(n)).strftime('%Y-%m-%d') for n in range(days_range)]\n",
    "\n",
    "    sample_data = []\n",
    "    for z7_quadkey in z7_quadkey_list:\n",
    "        for i in range(len(date_range)):\n",
    "            yr, month, date = date_range[i].split('-')\n",
    "            path = f\"D:/non_driving_activity/{z7_quadkey}/{yr}/{month}/{date}/{z7_quadkey}_{month}_{date}.csv\"\n",
    "            df = pd.read_csv(path, sep='|')\n",
    "            convert_dict = {'geography': str,'xlon': float, 'xlat':float,'bounds':str,'agg_day_period': 'datetime64[ns]', 'activity_index_nondriving': float, } \n",
    "            df = df.astype(convert_dict)\n",
    "            #Keep leading zeros and save as string\n",
    "            df['z18_quadkey'] = df.apply(lambda x: x['geography'].zfill(18), axis=1).astype('str')\n",
    "            df['z7_quadkey'] = df.apply(lambda x: x['geography'][:6].zfill(7), axis=1).astype('str')\n",
    "            # Check if 'z18_quadkey' values are in unique_z18_quadkeys\n",
    "            df_filtered = df[df['z18_quadkey'].isin(all_z18_quadkeys)]\n",
    "\n",
    "            # Append DataFrame to sample_data if it meets the condition\n",
    "            if not df_filtered.empty:\n",
    "                sample_data.append(df_filtered)\n",
    "\n",
    "            print(path)\n",
    "    \n",
    "    return  pd.concat(sample_data)"
   ]
  },
  {
   "cell_type": "code",
   "execution_count": null,
   "id": "4425eb58",
   "metadata": {
    "scrolled": false
   },
   "outputs": [],
   "source": [
    "# Tweak the following set of parameters to include broader time frame or more airports\n",
    "start_dt_str = \"2022-12-28\"\n",
    "end_dt_str = \"2023-01-05\"\n",
    "\n",
    "# Define a list to append all newly created DataFrames\n",
    "footfall_zone = []\n",
    "for z7 in all_z7_quadkeys:\n",
    "    print ([z7])\n",
    "\n",
    "    # Run the download script\n",
    "    footfall_zone.append(import_sample_data_to_df(start_dt_str, end_dt_str, [z7], False))"
   ]
  },
  {
   "cell_type": "markdown",
   "id": "9884191e",
   "metadata": {},
   "source": [
    "# Redefine at the z18 Quadkey of the places and export"
   ]
  },
  {
   "cell_type": "code",
   "execution_count": null,
   "id": "ed4a5c76",
   "metadata": {},
   "outputs": [],
   "source": [
    "data_to_filter = pd.concat(footfall_zone, ignore_index=True)"
   ]
  },
  {
   "cell_type": "code",
   "execution_count": null,
   "id": "12288b00",
   "metadata": {},
   "outputs": [],
   "source": [
    "data_to_export = data_to_filter[data_to_filter['z18_quadkey'].isin(all_z18_quadkeys)]"
   ]
  },
  {
   "cell_type": "code",
   "execution_count": null,
   "id": "5bb527b4",
   "metadata": {
    "scrolled": true
   },
   "outputs": [],
   "source": [
    "df_filtered.to_csv('Documents/Footfall/stores_2022_footfall.csv', index=False)"
   ]
  }
 ],
 "metadata": {
  "kernelspec": {
   "display_name": "Python 3 (ipykernel)",
   "language": "python",
   "name": "python3"
  },
  "language_info": {
   "codemirror_mode": {
    "name": "ipython",
    "version": 3
   },
   "file_extension": ".py",
   "mimetype": "text/x-python",
   "name": "python",
   "nbconvert_exporter": "python",
   "pygments_lexer": "ipython3",
   "version": "3.11.5"
  }
 },
 "nbformat": 4,
 "nbformat_minor": 5
}
