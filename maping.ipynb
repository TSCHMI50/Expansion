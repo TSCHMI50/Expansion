import folium

def display_map(latitude, longitude, zoom_level):
    # Create a folium map
    m = folium.Map(location=[latitude, longitude], zoom_start=zoom_level)

    # Display the map in the Jupyter Notebook
    display(m)

if __name__ == "__main__":
    # Set the coordinates and zoom level
    map_latitude = 46.8182
    map_longitude = 8.2275
    map_zoom_level = 7

    # Display the map
    display_map(map_latitude, map_longitude, map_zoom_level)
